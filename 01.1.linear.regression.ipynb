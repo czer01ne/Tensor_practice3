{
 "cells": [
  {
   "cell_type": "markdown",
   "metadata": {},
   "source": [
    "# Linear Regression\n",
    "\n",
    "* y와 한 개 이상의 독립 변수 (또는 설명 변수) X와의 선형 상관 관계를 모델링하는 회귀분석 기법이다. 한 개의 설명 변수에 기반한 경우에는 단순 선형 회귀, 둘 이상의 설명 변수에 기반한 경우에는 다중 선형 회귀라고 한다. [참고: 위키피디아](https://ko.wikipedia.org/wiki/선형_회귀)\n",
    "\n",
    "$$y_{\\textrm{pred}} = \\boldsymbol{W}^{\\top}\\boldsymbol{x} + b$$\n",
    "\n",
    "* $\\boldsymbol{x} = [x_{1}, x_{2}, \\cdots, x_{d}]$\n",
    "* $\\boldsymbol{W} = [w_{1}, w_{2}, \\cdots, w_{d}]$\n",
    "* Loss function: $\\mathcal{L} = \\sum^{N} (y_{\\textrm{pred}} - y)^{2}$"
   ]
  },
  {
   "cell_type": "markdown",
   "metadata": {},
   "source": [
    "## Training Pseudo Code\n",
    "\n",
    "```python\n",
    "for epoch in max_epochs: # 1 epoch: 모든 데이터(N)를 한번 학습 시켰을 때\n",
    "  for step in num_batches: # num_batches = int(data_size / batch_size)\n",
    "    1. sampling mini-batches with batch_size\n",
    "      1-1. data augmentation (필요하면)\n",
    "    2. calculate the logits # logits = f(x)\n",
    "    3. calculate the loss # loss = loss(logits, labels)\n",
    "    4. calculate the gradient with respect to weights\n",
    "    5. update weights\n",
    "```"
   ]
  },
  {
   "cell_type": "code",
   "execution_count": 1,
   "metadata": {},
   "outputs": [
    {
     "name": "stderr",
     "output_type": "stream",
     "text": [
      "C:\\Anaconda3\\lib\\site-packages\\h5py\\__init__.py:36: FutureWarning: Conversion of the second argument of issubdtype from `float` to `np.floating` is deprecated. In future, it will be treated as `np.float64 == np.dtype(float).type`.\n",
      "  from ._conv import register_converters as _register_converters\n"
     ]
    }
   ],
   "source": [
    "from __future__ import absolute_import\n",
    "from __future__ import division\n",
    "from __future__ import print_function\n",
    "\n",
    "import os\n",
    "import time\n",
    "\n",
    "import numpy as np\n",
    "import matplotlib.pyplot as plt\n",
    "%matplotlib inline\n",
    "\n",
    "import tensorflow as tf\n",
    "\n",
    "sess_config = tf.ConfigProto(gpu_options=tf.GPUOptions(allow_growth=True))\n",
    "os.environ[\"CUDA_VISIBLE_DEVICES\"]=\"0\""
   ]
  },
  {
   "cell_type": "markdown",
   "metadata": {},
   "source": [
    "## Phase 1. Build a model"
   ]
  },
  {
   "cell_type": "markdown",
   "metadata": {},
   "source": [
    "### Make data"
   ]
  },
  {
   "cell_type": "code",
   "execution_count": 2,
   "metadata": {},
   "outputs": [
    {
     "data": {
      "image/png": "[encoded data removed]",
      "text/plain": [
       "<Figure size 432x288 with 1 Axes>"
      ]
     },
     "metadata": {},
     "output_type": "display_data"
    }
   ],
   "source": [
    "np.random.seed(219)\n",
    "\n",
    "_a = 3\n",
    "_b = -3\n",
    "N = 200\n",
    "data_x = np.random.uniform(low=0, high=5, size=N)\n",
    "data_y = _a * data_x + _b + np.random.normal(0, 2, N)\n",
    "\n",
    "plt.plot(data_x, data_y, 'ro')\n",
    "plt.axhline(0, color='black', lw=1)\n",
    "plt.axvline(0, color='black', lw=1)\n",
    "plt.show()"
   ]
  },
  {
   "cell_type": "markdown",
   "metadata": {},
   "source": [
    "### Create placeholders for inputs and labels"
   ]
  },
  {
   "cell_type": "code",
   "execution_count": 3,
   "metadata": {},
   "outputs": [],
   "source": [
    "# x: inputs\n",
    "x = tf.placeholder(tf.float32, name='x')\n",
    "# y: labels\n",
    "y = tf.placeholder(tf.float32, name='y')"
   ]
  },
  {
   "cell_type": "markdown",
   "metadata": {},
   "source": [
    "### Create weight and bias"
   ]
  },
  {
   "cell_type": "code",
   "execution_count": 4,
   "metadata": {},
   "outputs": [],
   "source": [
    "tf.set_random_seed(219)\n",
    "\n",
    "# create Variables\n",
    "W = tf.get_variable(name=\"weights\", shape=[], initializer=tf.random_normal_initializer())\n",
    "b = tf.get_variable(name=\"bias\", shape=[], initializer=tf.random_uniform_initializer())"
   ]
  },
  {
   "cell_type": "markdown",
   "metadata": {},
   "source": [
    "### Build a model: $y = Wx + b$"
   ]
  },
  {
   "cell_type": "code",
   "execution_count": 5,
   "metadata": {},
   "outputs": [],
   "source": [
    "y_pred = W * x + b"
   ]
  },
  {
   "cell_type": "markdown",
   "metadata": {},
   "source": [
    "### Define loss function"
   ]
  },
  {
   "cell_type": "code",
   "execution_count": 6,
   "metadata": {},
   "outputs": [],
   "source": [
    "loss = tf.square(y_pred - y, name=\"loss\")"
   ]
  },
  {
   "cell_type": "markdown",
   "metadata": {},
   "source": [
    "### Create a optimizer"
   ]
  },
  {
   "cell_type": "code",
   "execution_count": 7,
   "metadata": {},
   "outputs": [],
   "source": [
    "train_op = tf.train.GradientDescentOptimizer(learning_rate=0.001).minimize(loss)"
   ]
  },
  {
   "cell_type": "markdown",
   "metadata": {},
   "source": [
    "## Phase 2. Train a model"
   ]
  },
  {
   "cell_type": "markdown",
   "metadata": {},
   "source": [
    "### Train a model"
   ]
  },
  {
   "cell_type": "code",
   "execution_count": 8,
   "metadata": {},
   "outputs": [
    {
     "name": "stdout",
     "output_type": "stream",
     "text": [
      "Epoch 10: total_loss: 5.453830\n",
      "Epoch 20: total_loss: 4.695905\n",
      "Epoch 30: total_loss: 4.539696\n",
      "Epoch 40: total_loss: 4.532388\n",
      "Epoch 50: total_loss: 4.529656\n",
      "Epoch 60: total_loss: 4.496114\n",
      "Epoch 70: total_loss: 4.500182\n",
      "Epoch 80: total_loss: 4.524413\n",
      "Epoch 90: total_loss: 4.533501\n",
      "Epoch 100: total_loss: 4.546718\n",
      "training done!\n",
      "elapsed time 12.855962991714478 sec\n"
     ]
    }
   ],
   "source": [
    "with tf.Session(config=sess_config) as sess:\n",
    "  # Initialize all variables\n",
    "  sess.run(tf.global_variables_initializer())\n",
    "  \n",
    "  writer = tf.summary.FileWriter('graphs/01.1.linear.regression', sess.graph)\n",
    "  writer.close()\n",
    "  \n",
    "  # train the model\n",
    "  max_epochs = 100\n",
    "  loss_history = []\n",
    "  start_time = time.time()\n",
    "  for epoch in range(max_epochs):\n",
    "    total_loss = 0.0\n",
    "    shuffle_index = np.random.permutation(len(data_x))\n",
    "    for i in shuffle_index:\n",
    "      x_ = data_x[i]\n",
    "      y_ = data_y[i]\n",
    "      _, loss_ = sess.run([train_op, loss],\n",
    "                          feed_dict={x: x_,\n",
    "                                     y: y_})\n",
    "      total_loss += loss_\n",
    "    total_loss /= len(data_x)\n",
    "    loss_history.append(total_loss)\n",
    "    \n",
    "    if (epoch+1) % 10 == 0:\n",
    "      print('Epoch %d: total_loss: %f' % (epoch+1, total_loss))\n",
    "      \n",
    "  print('training done!')\n",
    "  print('elapsed time {} sec'.format(time.time() - start_time))\n",
    "      \n",
    "  W_, b_ = sess.run([W, b])"
   ]
  },
  {
   "cell_type": "markdown",
   "metadata": {},
   "source": [
    "### Print the results: W and b\n",
    "\n",
    "* 정답 W = 3, b = -3"
   ]
  },
  {
   "cell_type": "code",
   "execution_count": 9,
   "metadata": {},
   "outputs": [
    {
     "name": "stdout",
     "output_type": "stream",
     "text": [
      "3.098956 -3.3719175\n"
     ]
    }
   ],
   "source": [
    "print(W_, b_)"
   ]
  },
  {
   "cell_type": "markdown",
   "metadata": {},
   "source": [
    "### Plot the loss funtion"
   ]
  },
  {
   "cell_type": "code",
   "execution_count": 10,
   "metadata": {},
   "outputs": [
    {
     "data": {
      "image/png": "[encoded data removed]",
      "text/plain": [
       "<Figure size 432x288 with 1 Axes>"
      ]
     },
     "metadata": {},
     "output_type": "display_data"
    }
   ],
   "source": [
    "plt.plot(loss_history, label='loss_history')\n",
    "plt.legend()\n",
    "plt.show()"
   ]
  },
  {
   "cell_type": "markdown",
   "metadata": {},
   "source": [
    "### Plot the results"
   ]
  },
  {
   "cell_type": "code",
   "execution_count": 11,
   "metadata": {},
   "outputs": [
    {
     "data": {
      "image/png": "[encoded data removed]",
      "text/plain": [
       "<Figure size 432x288 with 1 Axes>"
      ]
     },
     "metadata": {},
     "output_type": "display_data"
    }
   ],
   "source": [
    "plt.plot(data_x, data_y, 'ro', label='Real data')\n",
    "plt.plot(data_x, W_ * data_x + b_, lw=5, label='model')\n",
    "plt.axhline(0, color='black', lw=1)\n",
    "plt.axvline(0, color='black', lw=1)\n",
    "plt.legend()\n",
    "plt.show()"
   ]
  },
  {
   "cell_type": "code",
   "execution_count": null,
   "metadata": {},
   "outputs": [],
   "source": []
  }
 ],
 "metadata": {
  "kernelspec": {
   "display_name": "Python 3",
   "language": "python",
   "name": "python3"
  },
  "language_info": {
   "codemirror_mode": {
    "name": "ipython",
    "version": 3
   },
   "file_extension": ".py",
   "mimetype": "text/x-python",
   "name": "python",
   "nbconvert_exporter": "python",
   "pygments_lexer": "ipython3",
   "version": "3.6.5"
  }
 },
 "nbformat": 4,
 "nbformat_minor": 2
}
