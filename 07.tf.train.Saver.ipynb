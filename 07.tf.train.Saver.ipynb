{
 "cells": [
  {
   "cell_type": "markdown",
   "metadata": {},
   "source": [
    "# [`tf.train.Saver`](https://www.tensorflow.org/api_docs/python/tf/train/Saver)\n",
    "\n",
    "* 변수를 저장하거나 불러올때 쓴다"
   ]
  },
  {
   "cell_type": "code",
   "execution_count": 1,
   "metadata": {},
   "outputs": [],
   "source": [
    "from __future__ import absolute_import\n",
    "from __future__ import division\n",
    "from __future__ import print_function\n",
    "\n",
    "import tensorflow as tf\n",
    "\n",
    "sess_config = tf.ConfigProto(gpu_options=tf.GPUOptions(allow_growth=True))"
   ]
  },
  {
   "cell_type": "markdown",
   "metadata": {},
   "source": [
    "### 변수선언"
   ]
  },
  {
   "cell_type": "code",
   "execution_count": 2,
   "metadata": {},
   "outputs": [],
   "source": [
    "a = tf.Variable(5)\n",
    "b = tf.Variable(4, name=\"my_variable\")\n",
    "x = tf.add(a, b, name=\"add\")\n",
    "\n",
    "# set the value of a to 3\n",
    "op = tf.assign(a, 3) "
   ]
  },
  {
   "cell_type": "markdown",
   "metadata": {},
   "source": [
    "### `saver`를 이용한 변수 값 저장"
   ]
  },
  {
   "cell_type": "code",
   "execution_count": 3,
   "metadata": {},
   "outputs": [
    {
     "name": "stdout",
     "output_type": "stream",
     "text": [
      "a: 3\n",
      "my_variable: 4\n",
      "Variable:0\n",
      "my_variable:0\n"
     ]
    }
   ],
   "source": [
    "# create saver object\n",
    "saver = tf.train.Saver()\n",
    "\n",
    "with tf.Session(config=sess_config) as sess:\n",
    "  sess.run(tf.global_variables_initializer())\n",
    "\n",
    "  sess.run(op)\n",
    "\n",
    "  print (\"a:\", sess.run(a))\n",
    "  print (\"my_variable:\", sess.run(b))\n",
    "\n",
    "  # use saver object to save variables\n",
    "  # within the context of the current session \n",
    "  saver.save(sess, \"graphs/07.tf.train_Saver/my_model.ckpt\")\n",
    "  \n",
    "  print(a.name)\n",
    "  print(b.name)"
   ]
  },
  {
   "cell_type": "markdown",
   "metadata": {},
   "source": [
    "### `saver`를 이용하여 모델 restore 하기\n",
    "\n",
    "* `saver.save`는 그래프 자체를 저장하지 않는다.\n",
    "* 변수의 값만 저장할 뿐이다.\n",
    "* 따라서 `saver.restore`를 하기전에 그래프 구조를 만들어줘야 한다.\n",
    "* 위의 예제에서 save할 때는 `a`와 `b`를 저장하였으나 로드 할때는 `c`와 `d`를 만들어서 로드한다.\n",
    "* 중요한 것은 변수의 tensorflow로 지정한 이름이다.\n",
    "  * python 변수 이름 형태인 `a`, `b`, `c`, `d`가 아니다.\n",
    "* `name=my_variable`형태로 저장된 변수의 값을 불러와서 새로운 `c`와 `d` 라는 변수에 넣었다.\n",
    "  * 저장할 때 `a`와 `b`라는 변수 이름은 중요하지 않다."
   ]
  },
  {
   "cell_type": "code",
   "execution_count": 4,
   "metadata": {},
   "outputs": [
    {
     "name": "stdout",
     "output_type": "stream",
     "text": [
      "INFO:tensorflow:Restoring parameters from graphs/07.tf.train_Saver/my_model.ckpt\n",
      "c: 3\n",
      "my_variable: 4\n",
      "Variable:0\n",
      "my_variable:0\n"
     ]
    }
   ],
   "source": [
    "# Only necessary if you use IDLE or a jupyter notebook\n",
    "tf.reset_default_graph()\n",
    "\n",
    "# make a dummy variable\n",
    "# the value is arbitrary, here just zero\n",
    "# but the shape must the the same as in the saved model\n",
    "c = tf.Variable(5)\n",
    "d = tf.Variable(0, name=\"my_variable\")\n",
    "y = tf.add(c, d, name='add')\n",
    "\n",
    "saver = tf.train.Saver()\n",
    "\n",
    "with tf.Session(config=sess_config) as sess:\n",
    "\n",
    "  # use saver object to load variables from the saved model\n",
    "  saver.restore(sess, \"graphs/07.tf.train_Saver/my_model.ckpt\")\n",
    "\n",
    "  print (\"c:\", sess.run(c))\n",
    "  print (\"my_variable:\", sess.run(d))\n",
    "  \n",
    "  print(c.name)\n",
    "  print(d.name)"
   ]
  }
 ],
 "metadata": {
  "kernelspec": {
   "display_name": "Python 3",
   "language": "python",
   "name": "python3"
  },
  "language_info": {
   "codemirror_mode": {
    "name": "ipython",
    "version": 3
   },
   "file_extension": ".py",
   "mimetype": "text/x-python",
   "name": "python",
   "nbconvert_exporter": "python",
   "pygments_lexer": "ipython3",
   "version": "3.6.5"
  }
 },
 "nbformat": 4,
 "nbformat_minor": 2
}
