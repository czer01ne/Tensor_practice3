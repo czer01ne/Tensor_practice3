{
 "cells": [
  {
   "cell_type": "markdown",
   "metadata": {},
   "source": [
    "# RNN for text and sequences\n",
    "\n",
    "### Reference\n",
    "* Deep Learning with Python, F. Chollet\n",
    "\n",
    "\n",
    "### Preprocessing\n",
    "* Preprocessing text data into useful representations\n",
    "* Working with RNN\n",
    "\n",
    "### Applications of RNN\n",
    "\n",
    "* Document classification and timeseries classification, such as identifying the topic of an article or the author of a book\n",
    "* Timeseries comparisons, such as estimating how closely related two documents or two stock tickers are\n",
    "* Sequence-to-sequence learning, such as decoding an English sentence into French\n",
    "* Sentiment analysis, such as classifying the sentiment of tweets or movie reviews as positive or negative\n",
    "* Timeseries forecasting, such as predicting the future weather at a certain location, given recent weather data"
   ]
  },
  {
   "cell_type": "markdown",
   "metadata": {},
   "source": [
    "### *Vetorizing* text\n",
    "\n",
    "* Examples\n",
    "  * Segment text into words, and transform each word into a vector.\n",
    "  * Segment text into characters, and transform each character into a vector.\n",
    "* **Tokenization**: segment text into words or charaters\n",
    "* **Embedding**: transform them into a vectors\n",
    "  * *one-hot* encoding (sparse vector)\n",
    "  * **embedding** (dense vector)\n",
    "\n",
    "Tokenization\n",
    "<img src=\"../figures/tokenization.png\" width=\"30%\">\n",
    "\n",
    "Word embedding\n",
    "<img src=\"../figures/word_embedding.png\" width=\"30%\">\n",
    "\n",
    "* Two ways of word embedding\n",
    "  * Learned from data\n",
    "  * import pre-trained word vector (like word2vec)\n",
    "\n",
    "```python\n",
    "# TensorFlow code (one-hot embedding)\n",
    "one_hot = tf.get_variable(name='one_hot_embedding',\n",
    "                          initializer=tf.eye(num_words, dtype=tf.float32),\n",
    "                          trainable=False) \n",
    "inputs = tf.nn.embedding_lookup(params=one_hot, ids=train_data)\n",
    "\n",
    "# TensorFlow code (dense vector embedding)\n",
    "one_hot = tf.get_variable(name='embedding',\n",
    "                          shape=[max_features, embedding_size],\n",
    "                          initializer=tf.random_uniform_initializer())\n",
    "inputs = tf.nn.embedding_lookup(params=one_hot, ids=train_data)\n",
    "\n",
    "```"
   ]
  }
 ],
 "metadata": {
  "kernelspec": {
   "display_name": "Python 3",
   "language": "python",
   "name": "python3"
  },
  "language_info": {
   "codemirror_mode": {
    "name": "ipython",
    "version": 3
   },
   "file_extension": ".py",
   "mimetype": "text/x-python",
   "name": "python",
   "nbconvert_exporter": "python",
   "pygments_lexer": "ipython3",
   "version": "3.6.5"
  }
 },
 "nbformat": 4,
 "nbformat_minor": 2
}
