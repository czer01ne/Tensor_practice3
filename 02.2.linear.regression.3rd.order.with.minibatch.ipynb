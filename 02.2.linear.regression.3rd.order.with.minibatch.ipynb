{
 "cells": [
  {
   "cell_type": "markdown",
   "metadata": {},
   "source": [
    "# Linear Regression with mini-batch\n",
    "\n",
    "* y와 한 개 이상의 독립 변수 (또는 설명 변수) X와의 선형 상관 관계를 모델링하는 회귀분석 기법이다. 한 개의 설명 변수에 기반한 경우에는 단순 선형 회귀, 둘 이상의 설명 변수에 기반한 경우에는 다중 선형 회귀라고 한다. [참고: 위키피디아](https://ko.wikipedia.org/wiki/선형_회귀)\n",
    "\n",
    "$$y_{\\textrm{pred}} = \\boldsymbol{W}^{\\top}\\boldsymbol{x} + b$$\n",
    "\n",
    "* $\\boldsymbol{x} = [x_{1}, x_{2}, \\cdots, x_{d}]$\n",
    "* $\\boldsymbol{W} = [w_{1}, w_{2}, \\cdots, w_{d}]$\n",
    "* Loss function: $\\mathcal{L} = \\sum^{N} (y_{\\textrm{pred}} - y)^{2}$"
   ]
  },
  {
   "cell_type": "code",
   "execution_count": 1,
   "metadata": {},
   "outputs": [
    {
     "name": "stderr",
     "output_type": "stream",
     "text": [
      "/home/lab4all/anaconda3/lib/python3.6/site-packages/h5py/__init__.py:36: FutureWarning: Conversion of the second argument of issubdtype from `float` to `np.floating` is deprecated. In future, it will be treated as `np.float64 == np.dtype(float).type`.\n",
      "  from ._conv import register_converters as _register_converters\n"
     ]
    }
   ],
   "source": [
    "from __future__ import absolute_import\n",
    "from __future__ import division\n",
    "from __future__ import print_function\n",
    "\n",
    "import os\n",
    "import time\n",
    "\n",
    "import numpy as np\n",
    "import matplotlib.pyplot as plt\n",
    "%matplotlib inline\n",
    "\n",
    "import tensorflow as tf\n",
    "\n",
    "sess_config = tf.ConfigProto(gpu_options=tf.GPUOptions(allow_growth=True))\n",
    "os.environ[\"CUDA_VISIBLE_DEVICES\"]=\"0\""
   ]
  },
  {
   "cell_type": "markdown",
   "metadata": {},
   "source": [
    "## Phase 1. Build a model"
   ]
  },
  {
   "cell_type": "markdown",
   "metadata": {},
   "source": [
    "### Make data"
   ]
  },
  {
   "cell_type": "code",
   "execution_count": 2,
   "metadata": {},
   "outputs": [
    {
     "data": {
      "image/png": "[encoded data removed]",
      "text/plain": [
       "<Figure size 432x288 with 1 Axes>"
      ]
     },
     "metadata": {},
     "output_type": "display_data"
    }
   ],
   "source": [
    "np.random.seed(219)\n",
    "\n",
    "_a = 1\n",
    "_b = -3\n",
    "_c = -2\n",
    "_d = 4\n",
    "N = 200\n",
    "data_x = np.random.uniform(low=-2, high=4, size=N)\n",
    "data_y = _a * data_x**3 + _b * data_x**2 + _c * data_x + _d + np.random.normal(0, 2, N)\n",
    "\n",
    "plt.plot(data_x, data_y, 'ro')\n",
    "plt.axhline(0, color='black', lw=1)\n",
    "plt.axvline(0, color='black', lw=1)\n",
    "plt.show()"
   ]
  },
  {
   "cell_type": "markdown",
   "metadata": {},
   "source": [
    "### Create placeholders for inputs and labels"
   ]
  },
  {
   "cell_type": "code",
   "execution_count": 3,
   "metadata": {},
   "outputs": [],
   "source": [
    "# x: inputs\n",
    "x = tf.placeholder(tf.float32, shape=[None, 3], name='x')\n",
    "# y: labels\n",
    "y = tf.placeholder(tf.float32, shape=[None], name='y')"
   ]
  },
  {
   "cell_type": "markdown",
   "metadata": {},
   "source": [
    "### Create weight and bias"
   ]
  },
  {
   "cell_type": "code",
   "execution_count": 4,
   "metadata": {},
   "outputs": [],
   "source": [
    "tf.set_random_seed(219)\n",
    "\n",
    "# create Variables\n",
    "W = tf.get_variable(name=\"weights\", shape=[3, 1], initializer=tf.random_normal_initializer())\n",
    "b = tf.get_variable(name=\"bias\", shape=[], initializer=tf.random_uniform_initializer())"
   ]
  },
  {
   "cell_type": "markdown",
   "metadata": {},
   "source": [
    "### Build a model: $y = \\boldsymbol{W} \\boldsymbol{x} + b$"
   ]
  },
  {
   "cell_type": "code",
   "execution_count": 5,
   "metadata": {},
   "outputs": [],
   "source": [
    "y_pred = tf.squeeze(tf.matmul(x, W), axis=1) + b"
   ]
  },
  {
   "cell_type": "markdown",
   "metadata": {},
   "source": [
    "### Define loss function"
   ]
  },
  {
   "cell_type": "code",
   "execution_count": 6,
   "metadata": {},
   "outputs": [],
   "source": [
    "loss = tf.losses.mean_squared_error(labels=y, predictions=y_pred, scope='loss')"
   ]
  },
  {
   "cell_type": "markdown",
   "metadata": {},
   "source": [
    "### Create a optimizer"
   ]
  },
  {
   "cell_type": "code",
   "execution_count": 7,
   "metadata": {},
   "outputs": [],
   "source": [
    "train_op = tf.train.GradientDescentOptimizer(learning_rate=0.001).minimize(loss)"
   ]
  },
  {
   "cell_type": "markdown",
   "metadata": {},
   "source": [
    "## Phase2. Train a model"
   ]
  },
  {
   "cell_type": "markdown",
   "metadata": {},
   "source": [
    "### Train a model"
   ]
  },
  {
   "cell_type": "code",
   "execution_count": 8,
   "metadata": {},
   "outputs": [
    {
     "name": "stdout",
     "output_type": "stream",
     "text": [
      "Epoch 10: total_loss: 14.967411\n",
      "Epoch 20: total_loss: 11.388327\n",
      "Epoch 30: total_loss: 8.084213\n",
      "Epoch 40: total_loss: 8.136647\n",
      "Epoch 50: total_loss: 7.512748\n",
      "Epoch 60: total_loss: 6.412283\n",
      "Epoch 70: total_loss: 6.082273\n",
      "Epoch 80: total_loss: 5.573152\n",
      "Epoch 90: total_loss: 5.486646\n",
      "Epoch 100: total_loss: 5.911857\n",
      "training done!\n",
      "elapsed time 1.9488184452056885 sec\n"
     ]
    }
   ],
   "source": [
    "batch_size = 8\n",
    "\n",
    "with tf.Session(config=sess_config) as sess:\n",
    "  # Initialize all variables\n",
    "  sess.run(tf.global_variables_initializer())\n",
    "  \n",
    "  writer = tf.summary.FileWriter('graphs/02.2.linear.regression.3rd.order.with.minibatch', sess.graph)\n",
    "  writer.close()\n",
    "  \n",
    "  # train the model\n",
    "  max_epochs = 100\n",
    "  loss_history = []\n",
    "  num_batches_per_epoch = int(N / batch_size)\n",
    "  start_time = time.time()\n",
    "  for epoch in range(max_epochs):\n",
    "    total_loss = 0.0\n",
    "    shuffle_index = np.random.permutation(len(data_x))\n",
    "    for step in range(num_batches_per_epoch):\n",
    "      x_ = data_x[shuffle_index[step*batch_size:(step+1)*batch_size]]\n",
    "      y_ = data_y[shuffle_index[step*batch_size:(step+1)*batch_size]]\n",
    "      feed_x = np.array([x_**3, x_**2, x_])\n",
    "      _, loss_ = sess.run([train_op, loss],\n",
    "                          feed_dict={x: np.transpose(feed_x),\n",
    "                                     y: y_})\n",
    "      total_loss += loss_ * batch_size\n",
    "    total_loss /= float(N)\n",
    "    loss_history.append(total_loss)\n",
    "    \n",
    "    if (epoch+1) % 10 == 0:\n",
    "      print('Epoch %d: total_loss: %f' % (epoch+1, total_loss))\n",
    "      \n",
    "  print('training done!')\n",
    "  print('elapsed time {} sec'.format(time.time() - start_time))\n",
    "\n",
    "  W_, b_ = sess.run([W, b])"
   ]
  },
  {
   "cell_type": "markdown",
   "metadata": {},
   "source": [
    "### Print the results: W and b"
   ]
  },
  {
   "cell_type": "code",
   "execution_count": 9,
   "metadata": {},
   "outputs": [
    {
     "name": "stdout",
     "output_type": "stream",
     "text": [
      "hat_a:  0.8633748\n",
      "hat_b:  -2.507401\n",
      "hat_c:  -1.6443504\n",
      "hat_d:  2.5566163\n"
     ]
    }
   ],
   "source": [
    "#_a = 1\n",
    "#_b = -3\n",
    "#_c = -2\n",
    "#_d = 4\n",
    "print('hat_a: ', W_[0, 0])\n",
    "print('hat_b: ', W_[1, 0])\n",
    "print('hat_c: ', W_[2, 0])\n",
    "print('hat_d: ', b_)"
   ]
  },
  {
   "cell_type": "markdown",
   "metadata": {},
   "source": [
    "```python\n",
    "[output]\n",
    "hat_a:  0.8633748\n",
    "hat_b:  -2.507401\n",
    "hat_c:  -1.6443503\n",
    "hat_d:  2.556616\n",
    "```"
   ]
  },
  {
   "cell_type": "markdown",
   "metadata": {},
   "source": [
    "### Plot the loss funtion"
   ]
  },
  {
   "cell_type": "code",
   "execution_count": 10,
   "metadata": {},
   "outputs": [
    {
     "data": {
      "image/png": "[encoded data removed]",
      "text/plain": [
       "<Figure size 432x288 with 1 Axes>"
      ]
     },
     "metadata": {},
     "output_type": "display_data"
    }
   ],
   "source": [
    "plt.plot(loss_history, label='loss_history')\n",
    "plt.legend()\n",
    "plt.show()"
   ]
  },
  {
   "cell_type": "markdown",
   "metadata": {},
   "source": [
    "### Plot the results"
   ]
  },
  {
   "cell_type": "code",
   "execution_count": 11,
   "metadata": {},
   "outputs": [
    {
     "data": {
      "image/png": "[encoded data removed]",
      "text/plain": [
       "<Figure size 432x288 with 1 Axes>"
      ]
     },
     "metadata": {},
     "output_type": "display_data"
    }
   ],
   "source": [
    "plt.plot(data_x, data_y, 'ro', label='Real data')\n",
    "data_x.sort()\n",
    "plt.plot(data_x, W_[0, 0] * data_x**3 + W_[1, 0] * data_x**2 + W_[2, 0] * data_x + b_, lw=5, label='model')\n",
    "\n",
    "plt.axhline(0, color='black', lw=1)\n",
    "plt.axvline(0, color='black', lw=1)\n",
    "plt.legend()\n",
    "plt.show()"
   ]
  },
  {
   "cell_type": "markdown",
   "metadata": {},
   "source": [
    "## 직접 실습\n",
    "\n",
    "* 여러가지 hyper-parameter들을 바꿔가면서 accuracy를 높혀보자"
   ]
  }
 ],
 "metadata": {
  "kernelspec": {
   "display_name": "Python 3",
   "language": "python",
   "name": "python3"
  },
  "language_info": {
   "codemirror_mode": {
    "name": "ipython",
    "version": 3
   },
   "file_extension": ".py",
   "mimetype": "text/x-python",
   "name": "python",
   "nbconvert_exporter": "python",
   "pygments_lexer": "ipython3",
   "version": "3.6.5"
  }
 },
 "nbformat": 4,
 "nbformat_minor": 2
}
